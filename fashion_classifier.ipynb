{
  "nbformat": 4,
  "nbformat_minor": 0,
  "metadata": {
    "colab": {
      "name": "fashion_classifier.ipynb",
      "provenance": [],
      "collapsed_sections": [],
      "mount_file_id": "1yoNr_XuBXevW-Fu7kF5H2dzRVJ-Yfhsg",
      "authorship_tag": "ABX9TyMNM56SFNBd0dYXW/esc21e",
      "include_colab_link": true
    },
    "kernelspec": {
      "name": "python3",
      "display_name": "Python 3"
    },
    "accelerator": "GPU"
  },
  "cells": [
    {
      "cell_type": "markdown",
      "metadata": {
        "id": "view-in-github",
        "colab_type": "text"
      },
      "source": [
        "<a href=\"https://colab.research.google.com/github/sanjay-thiyagarajan/fashion_mnist/blob/main/fashion_classifier.ipynb\" target=\"_parent\"><img src=\"https://colab.research.google.com/assets/colab-badge.svg\" alt=\"Open In Colab\"/></a>"
      ]
    },
    {
      "cell_type": "markdown",
      "metadata": {
        "id": "rtK93q0qYrLh"
      },
      "source": [
        "# **Fashion MNIST Classification using Convolutional Neural Networks**  \n",
        "  \n",
        "  Dataset - fashion_mnist (keras)"
      ]
    },
    {
      "cell_type": "code",
      "metadata": {
        "id": "yygGLDtyb8ml"
      },
      "source": [
        "import tensorflow as tf #Google's Machine Learning Framework\n",
        "from tensorflow import keras #Deep Learning Library under TensorFlow\n",
        "from keras import Sequential #Sequential stack form for modelling\n",
        "from keras.layers import Dense #Dense layers for implementing Hidden Layers in the Neural Network\n",
        "import numpy as np #Library for numerical conversions and calculations\n",
        "import matplotlib.pyplot as plt # Library for data visualization\n",
        "from sklearn import metrics #Evaluation metrics for the model\n",
        "from keras.callbacks import EarlyStopping"
      ],
      "execution_count": 23,
      "outputs": []
    },
    {
      "cell_type": "code",
      "metadata": {
        "id": "RErEN00SeDm0",
        "colab": {
          "base_uri": "https://localhost:8080/"
        },
        "outputId": "b46a6e64-cdb7-41ea-922f-cb33f19eb030"
      },
      "source": [
        "fashion_mnists = keras.datasets.fashion_mnist #MNIST Fashion Dataset is downloaded and then saved to the dataframe fashion_mnists\n",
        "(train_imgs,train_labels),(test_imgs,test_labels) = fashion_mnists.load_data() #The dataframe is segmented into appropriate training and test sets.\n"
      ],
      "execution_count": 2,
      "outputs": [
        {
          "output_type": "stream",
          "text": [
            "Downloading data from https://storage.googleapis.com/tensorflow/tf-keras-datasets/train-labels-idx1-ubyte.gz\n",
            "32768/29515 [=================================] - 0s 0us/step\n",
            "Downloading data from https://storage.googleapis.com/tensorflow/tf-keras-datasets/train-images-idx3-ubyte.gz\n",
            "26427392/26421880 [==============================] - 0s 0us/step\n",
            "Downloading data from https://storage.googleapis.com/tensorflow/tf-keras-datasets/t10k-labels-idx1-ubyte.gz\n",
            "8192/5148 [===============================================] - 0s 0us/step\n",
            "Downloading data from https://storage.googleapis.com/tensorflow/tf-keras-datasets/t10k-images-idx3-ubyte.gz\n",
            "4423680/4422102 [==============================] - 0s 0us/step\n"
          ],
          "name": "stdout"
        }
      ]
    },
    {
      "cell_type": "code",
      "metadata": {
        "id": "cEVPhUEWl9b6",
        "colab": {
          "base_uri": "https://localhost:8080/",
          "height": 282
        },
        "outputId": "09a2bee6-b3cd-4c0e-f14c-9ca0bfae8020"
      },
      "source": [
        "# CHECKING THE IMAGE\n",
        "plt.imshow(train_imgs[6])"
      ],
      "execution_count": 3,
      "outputs": [
        {
          "output_type": "execute_result",
          "data": {
            "text/plain": [
              "<matplotlib.image.AxesImage at 0x7fd81be6ada0>"
            ]
          },
          "metadata": {
            "tags": []
          },
          "execution_count": 3
        },
        {
          "output_type": "display_data",
          "data": {
            "image/png": "[encoded data removed]",
            "text/plain": [
              "<Figure size 432x288 with 1 Axes>"
            ]
          },
          "metadata": {
            "tags": [],
            "needs_background": "light"
          }
        }
      ]
    },
    {
      "cell_type": "code",
      "metadata": {
        "id": "gVGy7-LpmJX5"
      },
      "source": [
        "train_imgs = train_imgs / 255.0 #Pixel Resizing for training set\n",
        "test_imgs = test_imgs / 255.0 #Pixel Resizing for test set\n",
        "train_imgs = train_imgs.reshape(60000,28,28,1) #Training data is reshaped into 28x28 dimension and flatttened\n",
        "test_imgs = test_imgs.reshape(10000,28,28,1) #Test data is reshaped into 28x28 dimension and flattened"
      ],
      "execution_count": 4,
      "outputs": []
    },
    {
      "cell_type": "code",
      "metadata": {
        "id": "yIRcRfL5mp5w",
        "colab": {
          "base_uri": "https://localhost:8080/"
        },
        "outputId": "b01cb666-332b-4fcb-e7e5-56eb26b1ebcd"
      },
      "source": [
        "model = Sequential([ #model is attached to a Sequential stack\n",
        "                    keras.layers.Conv2D(64,(3,3),activation='relu',input_shape=(28,28,1)), #64 convolutional filters are applied at the first stage\n",
        "                    keras.layers.MaxPool2D(2,2), #The image is then filtered to half the existing dimension \n",
        "                    keras.layers.Conv2D(32,(3,3),activation='relu'), #image is then again passed through 32 convolutional filters but with filtered features\n",
        "                    keras.layers.MaxPool2D(2,2),#The image is again filtered to half the existing dimensions\n",
        "                    keras.layers.Flatten(), #The feature is then flattened to push through the hidden layers\n",
        "                    Dense(10, activation=tf.nn.softmax) #Hidden layer with 10 neurons for classification purpose\n",
        "])\n",
        "model.compile(optimizer='adam',loss='sparse_categorical_crossentropy',metrics=['acc']) #Uses Adam optimizer and Sparse categorical Cross entropy\n",
        "hist = model.fit(train_imgs,train_labels, validation_data=(test_imgs, test_labels), epochs=10, callbacks=EarlyStopping()) #10 epoch training is initiated"
      ],
      "execution_count": 39,
      "outputs": [
        {
          "output_type": "stream",
          "text": [
            "Epoch 1/10\n",
            "1875/1875 [==============================] - 9s 5ms/step - loss: 0.6811 - acc: 0.7605 - val_loss: 0.4003 - val_acc: 0.8553\n",
            "Epoch 2/10\n",
            "1875/1875 [==============================] - 9s 5ms/step - loss: 0.3566 - acc: 0.8727 - val_loss: 0.3533 - val_acc: 0.8770\n",
            "Epoch 3/10\n",
            "1875/1875 [==============================] - 9s 5ms/step - loss: 0.3128 - acc: 0.8878 - val_loss: 0.3180 - val_acc: 0.8863\n",
            "Epoch 4/10\n",
            "1875/1875 [==============================] - 9s 5ms/step - loss: 0.2909 - acc: 0.8946 - val_loss: 0.3044 - val_acc: 0.8920\n",
            "Epoch 5/10\n",
            "1875/1875 [==============================] - 9s 5ms/step - loss: 0.2574 - acc: 0.9070 - val_loss: 0.2921 - val_acc: 0.8936\n",
            "Epoch 6/10\n",
            "1875/1875 [==============================] - 9s 5ms/step - loss: 0.2494 - acc: 0.9085 - val_loss: 0.3018 - val_acc: 0.8893\n"
          ],
          "name": "stdout"
        }
      ]
    },
    {
      "cell_type": "code",
      "metadata": {
        "colab": {
          "base_uri": "https://localhost:8080/",
          "height": 281
        },
        "id": "ZDnsU8-9cs6C",
        "outputId": "2b3fee53-0283-4a61-d6bc-5ab09b462950"
      },
      "source": [
        "plt.title('Loss / Mean Squared Error')\n",
        "plt.plot(hist.history['loss'], label='train')\n",
        "plt.plot(hist.history['val_loss'], label='test')\n",
        "plt.legend()\n",
        "plt.show()"
      ],
      "execution_count": 40,
      "outputs": [
        {
          "output_type": "display_data",
          "data": {
            "image/png": "[encoded data removed]",
            "text/plain": [
              "<Figure size 432x288 with 1 Axes>"
            ]
          },
          "metadata": {
            "tags": [],
            "needs_background": "light"
          }
        }
      ]
    },
    {
      "cell_type": "code",
      "metadata": {
        "id": "nJb2aY96qtG_",
        "colab": {
          "base_uri": "https://localhost:8080/"
        },
        "outputId": "3960e843-e898-48ad-97f6-de1e51c9c2b5"
      },
      "source": [
        "model.evaluate(test_imgs,test_labels) #Model is evaluated with Loss and Accuracy as parameters\n",
        "pred =  model.predict(test_imgs)"
      ],
      "execution_count": 41,
      "outputs": [
        {
          "output_type": "stream",
          "text": [
            "313/313 [==============================] - 1s 3ms/step - loss: 0.3018 - acc: 0.8893\n"
          ],
          "name": "stdout"
        }
      ]
    }
  ]
}